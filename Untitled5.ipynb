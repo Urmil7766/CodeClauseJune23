{
  "nbformat": 4,
  "nbformat_minor": 0,
  "metadata": {
    "colab": {
      "provenance": []
    },
    "kernelspec": {
      "name": "python3",
      "display_name": "Python 3"
    },
    "language_info": {
      "name": "python"
    }
  },
  "cells": [
    {
      "cell_type": "code",
      "source": [
        "import tensorflow as tf\n",
        "from tensorflow.keras.datasets import mnist\n",
        "from tensorflow.keras.models import Sequential\n",
        "from tensorflow.keras.layers import Dense, Conv2D, MaxPooling2D, Flatten"
      ],
      "metadata": {
        "id": "KrDzYPruCls1"
      },
      "execution_count": 1,
      "outputs": []
    },
    {
      "cell_type": "code",
      "source": [
        "(x_train, y_train), (x_test, y_test) = mnist.load_data()"
      ],
      "metadata": {
        "colab": {
          "base_uri": "https://localhost:8080/"
        },
        "id": "aRpWGIURCxC-",
        "outputId": "6c50c418-1713-478a-94c4-081762056091"
      },
      "execution_count": 2,
      "outputs": [
        {
          "output_type": "stream",
          "name": "stdout",
          "text": [
            "Downloading data from https://storage.googleapis.com/tensorflow/tf-keras-datasets/mnist.npz\n",
            "11490434/11490434 [==============================] - 0s 0us/step\n"
          ]
        }
      ]
    },
    {
      "cell_type": "code",
      "source": [
        "x_train = x_train.reshape((x_train.shape[0], 28, 28, 1))\n",
        "x_test = x_test.reshape((x_test.shape[0], 28, 28, 1))\n",
        "x_train = x_train.astype('float32') / 255\n",
        "x_test = x_test.astype('float32') / 255"
      ],
      "metadata": {
        "id": "OBSZu1J8C0mV"
      },
      "execution_count": 3,
      "outputs": []
    },
    {
      "cell_type": "code",
      "source": [
        "y_train = tf.keras.utils.to_categorical(y_train, 10)\n",
        "y_test = tf.keras.utils.to_categorical(y_test, 10)"
      ],
      "metadata": {
        "id": "9xUn-rxnC3H7"
      },
      "execution_count": 4,
      "outputs": []
    },
    {
      "cell_type": "code",
      "source": [
        "model = Sequential()\n",
        "model.add(Conv2D(32, kernel_size=(3, 3), activation='relu', input_shape=(28, 28, 1)))\n",
        "model.add(MaxPooling2D(pool_size=(2, 2)))\n",
        "model.add(Flatten())\n",
        "model.add(Dense(64, activation='relu'))\n",
        "model.add(Dense(10, activation='softmax'))"
      ],
      "metadata": {
        "id": "9uQ-W02DC3QV"
      },
      "execution_count": 5,
      "outputs": []
    },
    {
      "cell_type": "code",
      "source": [
        "model.compile(optimizer='adam', loss='categorical_crossentropy', metrics=['accuracy'])"
      ],
      "metadata": {
        "id": "S8yk9NKmC_Tz"
      },
      "execution_count": 6,
      "outputs": []
    },
    {
      "cell_type": "code",
      "source": [
        "model.fit(x_train, y_train, epochs=10, batch_size=32, verbose=1)"
      ],
      "metadata": {
        "colab": {
          "base_uri": "https://localhost:8080/"
        },
        "id": "BpVEWSnBDApm",
        "outputId": "153dc3be-eafc-4cd2-a975-f3bf6b3a2beb"
      },
      "execution_count": 7,
      "outputs": [
        {
          "output_type": "stream",
          "name": "stdout",
          "text": [
            "Epoch 1/10\n",
            "1875/1875 [==============================] - 22s 11ms/step - loss: 0.1679 - accuracy: 0.9509\n",
            "Epoch 2/10\n",
            "1875/1875 [==============================] - 21s 11ms/step - loss: 0.0624 - accuracy: 0.9811\n",
            "Epoch 3/10\n",
            "1875/1875 [==============================] - 21s 11ms/step - loss: 0.0411 - accuracy: 0.9872\n",
            "Epoch 4/10\n",
            "1875/1875 [==============================] - 21s 11ms/step - loss: 0.0300 - accuracy: 0.9900\n",
            "Epoch 5/10\n",
            "1875/1875 [==============================] - 20s 11ms/step - loss: 0.0209 - accuracy: 0.9933\n",
            "Epoch 6/10\n",
            "1875/1875 [==============================] - 21s 11ms/step - loss: 0.0156 - accuracy: 0.9948\n",
            "Epoch 7/10\n",
            "1875/1875 [==============================] - 21s 11ms/step - loss: 0.0105 - accuracy: 0.9964\n",
            "Epoch 8/10\n",
            "1875/1875 [==============================] - 21s 11ms/step - loss: 0.0084 - accuracy: 0.9971\n",
            "Epoch 9/10\n",
            "1875/1875 [==============================] - 20s 11ms/step - loss: 0.0067 - accuracy: 0.9977\n",
            "Epoch 10/10\n",
            "1875/1875 [==============================] - 21s 11ms/step - loss: 0.0063 - accuracy: 0.9982\n"
          ]
        },
        {
          "output_type": "execute_result",
          "data": {
            "text/plain": [
              "<keras.callbacks.History at 0x7f8f0e8f3430>"
            ]
          },
          "metadata": {},
          "execution_count": 7
        }
      ]
    },
    {
      "cell_type": "code",
      "source": [
        "score = model.evaluate(x_test, y_test, verbose=0)\n",
        "print('Test loss:', score[0])\n",
        "print('Test accuracy:', score[1])\n"
      ],
      "metadata": {
        "colab": {
          "base_uri": "https://localhost:8080/"
        },
        "id": "AbZGQWknEJqg",
        "outputId": "44cf7bd4-7e3a-4b6d-cddb-c82fcbf06c7e"
      },
      "execution_count": 8,
      "outputs": [
        {
          "output_type": "stream",
          "name": "stdout",
          "text": [
            "Test loss: 0.04928923770785332\n",
            "Test accuracy: 0.9872000217437744\n"
          ]
        }
      ]
    },
    {
      "cell_type": "code",
      "source": [
        "model.save('digit_recognition_model.h5')"
      ],
      "metadata": {
        "id": "_k5AdTTVEM8L"
      },
      "execution_count": 9,
      "outputs": []
    }
  ]
}